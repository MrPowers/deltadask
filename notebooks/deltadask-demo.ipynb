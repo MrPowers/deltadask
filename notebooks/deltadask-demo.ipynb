{
 "cells": [
  {
   "cell_type": "markdown",
   "id": "eb6c208a-5ab8-41e3-83db-95d380c53293",
   "metadata": {},
   "source": [
    "# deltadask demo"
   ]
  },
  {
   "cell_type": "code",
   "execution_count": 1,
   "id": "c322b15c-9ba9-4b8b-8e11-eb949b8da476",
   "metadata": {},
   "outputs": [],
   "source": [
    "import pathlib\n",
    "\n",
    "import deltadask\n",
    "import deltalake as dl\n",
    "import pandas as pd\n",
    "import pyarrow.dataset as ds"
   ]
  },
  {
   "cell_type": "code",
   "execution_count": 2,
   "id": "b553c6b0-1226-4b5e-aeb5-a21c99c50ae9",
   "metadata": {},
   "outputs": [],
   "source": [
    "cwd = pathlib.Path().resolve()"
   ]
  },
  {
   "cell_type": "markdown",
   "id": "b9bd35f2-46ea-46f7-a550-a3ba1012787f",
   "metadata": {},
   "source": [
    "## Create Delta table"
   ]
  },
  {
   "cell_type": "code",
   "execution_count": 3,
   "id": "8db17351-5157-49f4-9eaa-513714dc6e0c",
   "metadata": {},
   "outputs": [],
   "source": [
    "df = pd.DataFrame({\"id\": [0, 1, 2]})"
   ]
  },
  {
   "cell_type": "code",
   "execution_count": 4,
   "id": "a8d2da2b-1801-4847-b4e9-8fa7a7676c10",
   "metadata": {},
   "outputs": [],
   "source": [
    "dl.writer.write_deltalake(f\"{cwd}/tmp/delta-table\", df)"
   ]
  },
  {
   "cell_type": "markdown",
   "id": "56d2938e-8f50-45bd-9b9f-b4514630ba06",
   "metadata": {},
   "source": [
    "## Append data to Delta table"
   ]
  },
  {
   "cell_type": "code",
   "execution_count": 5,
   "id": "1e8ae943-9d90-4821-9bb6-be0ebc570ff0",
   "metadata": {},
   "outputs": [],
   "source": [
    "df = pd.DataFrame({\"id\": [4, 5]})"
   ]
  },
  {
   "cell_type": "code",
   "execution_count": 6,
   "id": "b2b863c2-0415-4a31-883d-d611267fafbe",
   "metadata": {},
   "outputs": [],
   "source": [
    "dl.writer.write_deltalake(f\"{cwd}/tmp/delta-table\", df, mode=\"append\")"
   ]
  },
  {
   "cell_type": "markdown",
   "id": "e9525ac9-5fde-45a8-80b8-6bf2bb614cb1",
   "metadata": {},
   "source": [
    "## Overwrite Delta table"
   ]
  },
  {
   "cell_type": "code",
   "execution_count": 7,
   "id": "6c671791-5354-41a9-84c3-6ba8ca3f2bfe",
   "metadata": {},
   "outputs": [],
   "source": [
    "df = pd.DataFrame({\"id\": [7, 8, 9]})"
   ]
  },
  {
   "cell_type": "code",
   "execution_count": 8,
   "id": "4755f521-bd48-4ae9-a2b6-abc4ae99de94",
   "metadata": {},
   "outputs": [],
   "source": [
    "dl.writer.write_deltalake(f\"{cwd}/tmp/delta-table\", df, mode=\"overwrite\")"
   ]
  },
  {
   "cell_type": "markdown",
   "id": "e01ed04f-b270-4844-a853-fba6b91dede2",
   "metadata": {},
   "source": [
    "## Read differnt versions with Dask"
   ]
  },
  {
   "cell_type": "code",
   "execution_count": 10,
   "id": "8e9cee8c-910e-4546-b6c0-d1028309f725",
   "metadata": {},
   "outputs": [
    {
     "data": {
      "text/html": [
       "<div>\n",
       "<style scoped>\n",
       "    .dataframe tbody tr th:only-of-type {\n",
       "        vertical-align: middle;\n",
       "    }\n",
       "\n",
       "    .dataframe tbody tr th {\n",
       "        vertical-align: top;\n",
       "    }\n",
       "\n",
       "    .dataframe thead th {\n",
       "        text-align: right;\n",
       "    }\n",
       "</style>\n",
       "<table border=\"1\" class=\"dataframe\">\n",
       "  <thead>\n",
       "    <tr style=\"text-align: right;\">\n",
       "      <th></th>\n",
       "      <th>id</th>\n",
       "    </tr>\n",
       "  </thead>\n",
       "  <tbody>\n",
       "    <tr>\n",
       "      <th>0</th>\n",
       "      <td>7</td>\n",
       "    </tr>\n",
       "    <tr>\n",
       "      <th>1</th>\n",
       "      <td>8</td>\n",
       "    </tr>\n",
       "    <tr>\n",
       "      <th>2</th>\n",
       "      <td>9</td>\n",
       "    </tr>\n",
       "  </tbody>\n",
       "</table>\n",
       "</div>"
      ],
      "text/plain": [
       "   id\n",
       "0   7\n",
       "1   8\n",
       "2   9"
      ]
     },
     "execution_count": 10,
     "metadata": {},
     "output_type": "execute_result"
    }
   ],
   "source": [
    "deltadask.read_delta(f\"{cwd}/tmp/delta-table\").compute()"
   ]
  },
  {
   "cell_type": "code",
   "execution_count": 14,
   "id": "3e49d9e5-ab97-41b8-b987-6cd41ee0f6d5",
   "metadata": {},
   "outputs": [
    {
     "name": "stdout",
     "output_type": "stream",
     "text": [
      "   id\n",
      "0   0\n",
      "1   1\n",
      "2   2\n",
      "0   4\n",
      "1   5\n"
     ]
    }
   ],
   "source": [
    "print(deltadask.read_delta(f\"{cwd}/tmp/delta-table\", version=1).compute())"
   ]
  },
  {
   "cell_type": "markdown",
   "id": "9dab07ef-f3b3-495e-a54e-924c9a28fdd8",
   "metadata": {},
   "source": [
    "## Read different versions with pandas"
   ]
  },
  {
   "cell_type": "code",
   "execution_count": 10,
   "id": "e87c17d4-48a6-4caa-9b47-bef3ab149e25",
   "metadata": {},
   "outputs": [
    {
     "data": {
      "text/html": [
       "<div>\n",
       "<style scoped>\n",
       "    .dataframe tbody tr th:only-of-type {\n",
       "        vertical-align: middle;\n",
       "    }\n",
       "\n",
       "    .dataframe tbody tr th {\n",
       "        vertical-align: top;\n",
       "    }\n",
       "\n",
       "    .dataframe thead th {\n",
       "        text-align: right;\n",
       "    }\n",
       "</style>\n",
       "<table border=\"1\" class=\"dataframe\">\n",
       "  <thead>\n",
       "    <tr style=\"text-align: right;\">\n",
       "      <th></th>\n",
       "      <th>id</th>\n",
       "    </tr>\n",
       "  </thead>\n",
       "  <tbody>\n",
       "    <tr>\n",
       "      <th>0</th>\n",
       "      <td>0</td>\n",
       "    </tr>\n",
       "    <tr>\n",
       "      <th>1</th>\n",
       "      <td>1</td>\n",
       "    </tr>\n",
       "    <tr>\n",
       "      <th>2</th>\n",
       "      <td>2</td>\n",
       "    </tr>\n",
       "  </tbody>\n",
       "</table>\n",
       "</div>"
      ],
      "text/plain": [
       "   id\n",
       "0   0\n",
       "1   1\n",
       "2   2"
      ]
     },
     "execution_count": 10,
     "metadata": {},
     "output_type": "execute_result"
    }
   ],
   "source": [
    "# read version 0\n",
    "dl.DeltaTable(\"./tmp/delta-table\", version=0).to_pandas()"
   ]
  },
  {
   "cell_type": "code",
   "execution_count": 14,
   "id": "04377408-f48b-4d94-9ad5-f113db9a3471",
   "metadata": {},
   "outputs": [
    {
     "name": "stdout",
     "output_type": "stream",
     "text": [
      "   id\n",
      "0   0\n",
      "1   1\n",
      "2   2\n",
      "3   4\n",
      "4   5\n"
     ]
    }
   ],
   "source": [
    "# read version 1\n",
    "print(dl.DeltaTable(\"./tmp/delta-table\", version=1).to_pandas())"
   ]
  },
  {
   "cell_type": "code",
   "execution_count": 13,
   "id": "15c87ff7-a555-4494-9a3c-5021d02de8a9",
   "metadata": {},
   "outputs": [
    {
     "name": "stdout",
     "output_type": "stream",
     "text": [
      "   id\n",
      "0   7\n",
      "1   8\n",
      "2   9\n"
     ]
    }
   ],
   "source": [
    "# read latest version\n",
    "print(dl.DeltaTable(\"./tmp/delta-table\").to_pandas())"
   ]
  },
  {
   "cell_type": "code",
   "execution_count": null,
   "id": "a0b1bf81-819a-4120-af48-484be6c914e0",
   "metadata": {},
   "outputs": [],
   "source": []
  }
 ],
 "metadata": {
  "kernelspec": {
   "display_name": "Python [conda env:deltadask-env] *",
   "language": "python",
   "name": "conda-env-deltadask-env-py"
  },
  "language_info": {
   "codemirror_mode": {
    "name": "ipython",
    "version": 3
   },
   "file_extension": ".py",
   "mimetype": "text/x-python",
   "name": "python",
   "nbconvert_exporter": "python",
   "pygments_lexer": "ipython3",
   "version": "3.9.15"
  }
 },
 "nbformat": 4,
 "nbformat_minor": 5
}
